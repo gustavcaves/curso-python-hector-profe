{
 "cells": [
  {
   "cell_type": "markdown",
   "metadata": {},
   "source": [
    "# Comprensión de listas"
   ]
  },
  {
   "cell_type": "code",
   "execution_count": 3,
   "metadata": {
    "collapsed": true
   },
   "outputs": [
    {
     "output_type": "stream",
     "name": "stdout",
     "text": [
      "['c', 'a', 's', 'a']\n"
     ]
    }
   ],
   "source": [
    "# Método tracicional\n",
    "\n",
    "lista = []\n",
    "for letra in 'casa':\n",
    "    lista.append(letra)\n",
    "print(lista)"
   ]
  },
  {
   "cell_type": "code",
   "execution_count": 5,
   "metadata": {},
   "outputs": [
    {
     "output_type": "stream",
     "name": "stdout",
     "text": [
      "['c', 'a', 's', 'a']\n"
     ]
    }
   ],
   "source": [
    "# Método con compresión de listas\n",
    "\n",
    "lista = [letra for letra in 'casa']\n",
    "print(lista)"
   ]
  },
  {
   "cell_type": "code",
   "execution_count": 7,
   "metadata": {},
   "outputs": [
    {
     "output_type": "stream",
     "name": "stdout",
     "text": [
      "[0, 1, 4, 9, 16, 25, 36, 49, 64, 81, 100]\n"
     ]
    }
   ],
   "source": [
    "# Método tradicional\n",
    "lista = []\n",
    "for numero in range(0,11):\n",
    "    lista.append(numero**2)\n",
    "print(lista)"
   ]
  },
  {
   "cell_type": "code",
   "execution_count": 10,
   "metadata": {},
   "outputs": [
    {
     "output_type": "stream",
     "name": "stdout",
     "text": [
      "[0, 1, 4, 9, 16, 25, 36, 49, 64, 81, 100]\n"
     ]
    }
   ],
   "source": [
    "# Método con compresión de lista\n",
    "lista = [numero**2 for numero in range(0,11)]\n",
    "print(lista)"
   ]
  },
  {
   "cell_type": "code",
   "execution_count": 12,
   "metadata": {},
   "outputs": [
    {
     "output_type": "stream",
     "name": "stdout",
     "text": [
      "[0, 2, 4, 6, 8, 10]\n"
     ]
    }
   ],
   "source": [
    "# Método tradicional\n",
    "lista = []\n",
    "for numero in range(0,11):\n",
    "    if numero % 2 == 0:\n",
    "        lista.append(numero)\n",
    "print(lista)\n",
    "#Multiplos de 2 entre 0 y 10"
   ]
  },
  {
   "cell_type": "code",
   "execution_count": 14,
   "metadata": {},
   "outputs": [
    {
     "output_type": "stream",
     "name": "stdout",
     "text": [
      "[0, 2, 4, 6, 8, 10]\n"
     ]
    }
   ],
   "source": [
    "# Método con compresión de lista\n",
    "lista = [numero for numero in range(0,11) if numero % 2 == 0]\n",
    "print(lista)"
   ]
  },
  {
   "cell_type": "code",
   "execution_count": 18,
   "metadata": {},
   "outputs": [
    {
     "output_type": "stream",
     "name": "stdout",
     "text": [
      "[0, 4, 16, 36, 64, 100]\n"
     ]
    }
   ],
   "source": [
    "# Método tradicional\n",
    "lista = []\n",
    "for numero in range(0,11):\n",
    "    lista.append(numero**2)\n",
    "\n",
    "pares = []\n",
    "for numero in lista:\n",
    "    if numero % 2 == 0:\n",
    "        pares.append(numero)\n",
    "print(pares)"
   ]
  },
  {
   "cell_type": "code",
   "execution_count": 20,
   "metadata": {},
   "outputs": [
    {
     "output_type": "stream",
     "name": "stdout",
     "text": [
      "[0, 4, 16, 36, 64, 100]\n"
     ]
    }
   ],
   "source": [
    "# Método con compresión de lista\n",
    "pares = [numero for numero in [numero**2 for numero in range(0,11)] if numero % 2 == 0]\n",
    "print(pares)"
   ]
  }
 ],
 "metadata": {
  "anaconda-cloud": {},
  "kernelspec": {
   "display_name": "Python 3",
   "language": "python",
   "name": "python3"
  },
  "language_info": {
   "codemirror_mode": {
    "name": "ipython",
    "version": 3
   },
   "file_extension": ".py",
   "mimetype": "text/x-python",
   "name": "python",
   "nbconvert_exporter": "python",
   "pygments_lexer": "ipython3",
   "version": "3.9.0-final"
  }
 },
 "nbformat": 4,
 "nbformat_minor": 0
}