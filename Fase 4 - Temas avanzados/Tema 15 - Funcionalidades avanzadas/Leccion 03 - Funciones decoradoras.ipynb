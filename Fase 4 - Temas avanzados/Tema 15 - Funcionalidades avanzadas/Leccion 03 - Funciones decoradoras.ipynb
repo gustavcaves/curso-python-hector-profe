{
 "cells": [
  {
   "cell_type": "markdown",
   "metadata": {},
   "source": [
    "# Ámbitos y funciones decoradoras"
   ]
  },
  {
   "cell_type": "markdown",
   "metadata": {},
   "source": [
    "#### NOTA: Antes de realizar esta lección debes reiniciar Jupyter Notebook para vaciar la memoria."
   ]
  },
  {
   "cell_type": "code",
   "execution_count": 1,
   "metadata": {
    "collapsed": true
   },
   "outputs": [],
   "source": [
    "def hola():\n",
    "\n",
    "    def bienvenido():\n",
    "        return \"Hola!\"\n",
    "    return bienvenido"
   ]
  },
  {
   "cell_type": "code",
   "execution_count": 3,
   "metadata": {},
   "outputs": [
    {
     "output_type": "error",
     "ename": "NameError",
     "evalue": "name 'bienvenido' is not defined",
     "traceback": [
      "\u001b[1;31m---------------------------------------------------------------------------\u001b[0m",
      "\u001b[1;31mNameError\u001b[0m                                 Traceback (most recent call last)",
      "\u001b[1;32m<ipython-input-3-ea36fecb9306>\u001b[0m in \u001b[0;36m<module>\u001b[1;34m\u001b[0m\n\u001b[1;32m----> 1\u001b[1;33m \u001b[0mbienvenido\u001b[0m\u001b[1;33m(\u001b[0m\u001b[1;33m)\u001b[0m\u001b[1;33m\u001b[0m\u001b[1;33m\u001b[0m\u001b[0m\n\u001b[0m",
      "\u001b[1;31mNameError\u001b[0m: name 'bienvenido' is not defined"
     ]
    }
   ],
   "source": [
    "bienvenido()"
   ]
  },
  {
   "cell_type": "code",
   "execution_count": 4,
   "metadata": {},
   "outputs": [
    {
     "output_type": "execute_result",
     "data": {
      "text/plain": [
       "<function __main__.hola.<locals>.bienvenido()>"
      ]
     },
     "metadata": {},
     "execution_count": 4
    }
   ],
   "source": [
    "hola()"
   ]
  },
  {
   "cell_type": "code",
   "execution_count": 5,
   "metadata": {},
   "outputs": [
    {
     "output_type": "stream",
     "name": "stdout",
     "text": [
      "{'numero': 50, 'bienvenido': <function hola.<locals>.bienvenido at 0x0000025C6CB39A60>}\n{'__name__': '__main__', '__doc__': 'Automatically created module for IPython interactive environment', '__package__': None, '__loader__': None, '__spec__': None, '__builtin__': <module 'builtins' (built-in)>, '__builtins__': <module 'builtins' (built-in)>, '_ih': ['', 'globals()', 'globals().keys()', 'globals().keys()', 'globals()[lista]', 'lista = [1,2,3]\\n\\ndef hola():\\n\\n    numero = 50\\n\\n    def bienvenido():\\n        return \"Hola!\"\\n\\n    print(locals())\\n    print(globals())\\n\\n    return bienvenido\\n\\nhola()'], '_oh': {1: {...}, 2: dict_keys(['__name__', '__doc__', '__package__', '__loader__', '__spec__', '__builtin__', '__builtins__', '_ih', '_oh', '_dh', 'In', 'Out', 'get_ipython', 'exit', 'quit', '_', '__', '___', 'os', 'sys', '_i', '_ii', '_iii', '_i1', '_1', '_i2', '_2', '_i3', '_3', '_i4', '_i5', 'lista', 'hola']), 3: dict_keys(['__name__', '__doc__', '__package__', '__loader__', '__spec__', '__builtin__', '__builtins__', '_ih', '_oh', '_dh', 'In', 'Out', 'get_ipython', 'exit', 'quit', '_', '__', '___', 'os', 'sys', '_i', '_ii', '_iii', '_i1', '_1', '_i2', '_2', '_i3', '_3', '_i4', '_i5', 'lista', 'hola'])}, '_dh': ['C:\\\\Users\\\\Gustavo Cuevas\\\\AppData\\\\Local\\\\Programs\\\\Microsoft VS Code', 'c:\\\\Users\\\\Gustavo Cuevas\\\\Dropbox\\\\PythonProgramer\\\\CursoPython_\\\\Fase 4 - Temas avanzados\\\\Tema 15 - Funcionalidades avanzadas'], 'In': ['', 'globals()', 'globals().keys()', 'globals().keys()', 'globals()[lista]', 'lista = [1,2,3]\\n\\ndef hola():\\n\\n    numero = 50\\n\\n    def bienvenido():\\n        return \"Hola!\"\\n\\n    print(locals())\\n    print(globals())\\n\\n    return bienvenido\\n\\nhola()'], 'Out': {1: {...}, 2: dict_keys(['__name__', '__doc__', '__package__', '__loader__', '__spec__', '__builtin__', '__builtins__', '_ih', '_oh', '_dh', 'In', 'Out', 'get_ipython', 'exit', 'quit', '_', '__', '___', 'os', 'sys', '_i', '_ii', '_iii', '_i1', '_1', '_i2', '_2', '_i3', '_3', '_i4', '_i5', 'lista', 'hola']), 3: dict_keys(['__name__', '__doc__', '__package__', '__loader__', '__spec__', '__builtin__', '__builtins__', '_ih', '_oh', '_dh', 'In', 'Out', 'get_ipython', 'exit', 'quit', '_', '__', '___', 'os', 'sys', '_i', '_ii', '_iii', '_i1', '_1', '_i2', '_2', '_i3', '_3', '_i4', '_i5', 'lista', 'hola'])}, 'get_ipython': <bound method InteractiveShell.get_ipython of <ipykernel.zmqshell.ZMQInteractiveShell object at 0x0000025C6B658970>>, 'exit': <IPython.core.autocall.ZMQExitAutocall object at 0x0000025C6B67F850>, 'quit': <IPython.core.autocall.ZMQExitAutocall object at 0x0000025C6B67F850>, '_': dict_keys(['__name__', '__doc__', '__package__', '__loader__', '__spec__', '__builtin__', '__builtins__', '_ih', '_oh', '_dh', 'In', 'Out', 'get_ipython', 'exit', 'quit', '_', '__', '___', 'os', 'sys', '_i', '_ii', '_iii', '_i1', '_1', '_i2', '_2', '_i3', '_3', '_i4', '_i5', 'lista', 'hola']), '__': dict_keys(['__name__', '__doc__', '__package__', '__loader__', '__spec__', '__builtin__', '__builtins__', '_ih', '_oh', '_dh', 'In', 'Out', 'get_ipython', 'exit', 'quit', '_', '__', '___', 'os', 'sys', '_i', '_ii', '_iii', '_i1', '_1', '_i2', '_2', '_i3', '_3', '_i4', '_i5', 'lista', 'hola']), '___': {...}, 'os': <module 'os' from 'C:\\\\Users\\\\Gustavo Cuevas\\\\AppData\\\\Local\\\\Programs\\\\Python\\\\Python39\\\\lib\\\\os.py'>, 'sys': <module 'sys' (built-in)>, '_i': 'globals()[lista]', '_ii': 'globals().keys()', '_iii': 'globals().keys()', '_i1': 'globals()', '_1': {...}, '_i2': 'globals().keys()', '_2': dict_keys(['__name__', '__doc__', '__package__', '__loader__', '__spec__', '__builtin__', '__builtins__', '_ih', '_oh', '_dh', 'In', 'Out', 'get_ipython', 'exit', 'quit', '_', '__', '___', 'os', 'sys', '_i', '_ii', '_iii', '_i1', '_1', '_i2', '_2', '_i3', '_3', '_i4', '_i5', 'lista', 'hola']), '_i3': 'globals().keys()', '_3': dict_keys(['__name__', '__doc__', '__package__', '__loader__', '__spec__', '__builtin__', '__builtins__', '_ih', '_oh', '_dh', 'In', 'Out', 'get_ipython', 'exit', 'quit', '_', '__', '___', 'os', 'sys', '_i', '_ii', '_iii', '_i1', '_1', '_i2', '_2', '_i3', '_3', '_i4', '_i5', 'lista', 'hola']), '_i4': 'globals()[lista]', '_i5': 'lista = [1,2,3]\\n\\ndef hola():\\n\\n    numero = 50\\n\\n    def bienvenido():\\n        return \"Hola!\"\\n\\n    print(locals())\\n    print(globals())\\n\\n    return bienvenido\\n\\nhola()', 'lista': [1, 2, 3], 'hola': <function hola at 0x0000025C6CB399D0>}\n"
     ]
    },
    {
     "output_type": "execute_result",
     "data": {
      "text/plain": [
       "<function __main__.hola.<locals>.bienvenido()>"
      ]
     },
     "metadata": {},
     "execution_count": 5
    }
   ],
   "source": [
    "lista = [1,2,3]\n",
    "\n",
    "def hola():\n",
    "\n",
    "    numero = 50\n",
    "\n",
    "    def bienvenido():\n",
    "        return \"Hola!\"\n",
    "\n",
    "    print(locals())\n",
    "    print(globals())\n",
    "\n",
    "    return bienvenido\n",
    "\n",
    "hola()"
   ]
  },
  {
   "cell_type": "code",
   "execution_count": 6,
   "metadata": {},
   "outputs": [
    {
     "output_type": "execute_result",
     "data": {
      "text/plain": [
       "dict_keys(['__name__', '__doc__', '__package__', '__loader__', '__spec__', '__builtin__', '__builtins__', '_ih', '_oh', '_dh', 'In', 'Out', 'get_ipython', 'exit', 'quit', '_', '__', '___', 'os', 'sys', '_i', '_ii', '_iii', '_i1', '_1', '_i2', '_2', '_i3', '_3', '_i4', '_i5', 'lista', 'hola', '_5', '_i6'])"
      ]
     },
     "metadata": {},
     "execution_count": 6
    }
   ],
   "source": [
    "globals().keys()"
   ]
  },
  {
   "cell_type": "code",
   "execution_count": 8,
   "metadata": {},
   "outputs": [
    {
     "output_type": "execute_result",
     "data": {
      "text/plain": [
       "[1, 2, 3]"
      ]
     },
     "metadata": {},
     "execution_count": 8
    }
   ],
   "source": [
    "globals()['lista']"
   ]
  },
  {
   "cell_type": "code",
   "execution_count": 19,
   "metadata": {},
   "outputs": [
    {
     "output_type": "execute_result",
     "data": {
      "text/plain": [
       "'Hola!'"
      ]
     },
     "metadata": {},
     "execution_count": 19
    }
   ],
   "source": [
    "def hola():\n",
    "\n",
    "    def bienvenido():\n",
    "        return \"Hola!\"\n",
    "    return bienvenido\n",
    "\n",
    "hola()()"
   ]
  },
  {
   "cell_type": "code",
   "execution_count": 20,
   "metadata": {},
   "outputs": [
    {
     "output_type": "execute_result",
     "data": {
      "text/plain": [
       "'Hola!'"
      ]
     },
     "metadata": {},
     "execution_count": 20
    }
   ],
   "source": [
    "bienvenido = hola()\n",
    "bienvenido()"
   ]
  },
  {
   "cell_type": "code",
   "execution_count": 21,
   "metadata": {},
   "outputs": [],
   "source": [
    "del(hola)"
   ]
  },
  {
   "cell_type": "code",
   "execution_count": 22,
   "metadata": {},
   "outputs": [
    {
     "output_type": "execute_result",
     "data": {
      "text/plain": [
       "'Hola!'"
      ]
     },
     "metadata": {},
     "execution_count": 22
    }
   ],
   "source": [
    "bienvenido()"
   ]
  },
  {
   "cell_type": "code",
   "execution_count": 25,
   "metadata": {},
   "outputs": [
    {
     "output_type": "stream",
     "name": "stdout",
     "text": [
      "hola!\n"
     ]
    }
   ],
   "source": [
    "def hola():\n",
    "    return \"hola!\"\n",
    "\n",
    "def test(funcion):\n",
    "    print(funcion())\n",
    "\n",
    "test(hola)"
   ]
  },
  {
   "cell_type": "code",
   "execution_count": 27,
   "metadata": {},
   "outputs": [],
   "source": [
    "def hola():\n",
    "    print(\"Hola!\")\n",
    "\n",
    "def adios():\n",
    "    print(\"Adios!\")"
   ]
  },
  {
   "cell_type": "code",
   "execution_count": 39,
   "metadata": {},
   "outputs": [],
   "source": [
    "def monitorizar(funcion):\n",
    "\n",
    "    def decorar():\n",
    "        print(\"\\t*Se está apunto de ejecutar la función: \", funcion.__name__)\n",
    "\n",
    "        funcion()\n",
    "\n",
    "        print(\"\\t*Se ha finaliazado la ejecucion de la funcion: \", funcion.__name__)\n",
    "\n",
    "    return decorar"
   ]
  },
  {
   "cell_type": "code",
   "execution_count": 40,
   "metadata": {},
   "outputs": [
    {
     "output_type": "stream",
     "name": "stdout",
     "text": [
      "\t*Se está apunto de ejecutar la función:  hola\nHola!\n\t*Se ha finaliazado la ejecucion de la funcion:  hola\n"
     ]
    }
   ],
   "source": [
    "monitorizar(hola)()"
   ]
  },
  {
   "cell_type": "code",
   "execution_count": 41,
   "metadata": {},
   "outputs": [
    {
     "output_type": "stream",
     "name": "stdout",
     "text": [
      "\t*Se está apunto de ejecutar la función:  adios\nAdios!\n\t*Se ha finaliazado la ejecucion de la funcion:  adios\n"
     ]
    }
   ],
   "source": [
    "monitorizar(adios)()"
   ]
  },
  {
   "cell_type": "code",
   "execution_count": 43,
   "metadata": {},
   "outputs": [],
   "source": [
    "@monitorizar\n",
    "def hola():\n",
    "    print(\"Hola!\")\n",
    "\n",
    "@monitorizar\n",
    "def adios():\n",
    "    print(\"Adios!\")"
   ]
  },
  {
   "cell_type": "code",
   "execution_count": 45,
   "metadata": {},
   "outputs": [
    {
     "output_type": "stream",
     "name": "stdout",
     "text": [
      "\t*Se está apunto de ejecutar la función:  hola\nHola!\n\t*Se ha finaliazado la ejecucion de la funcion:  hola\n"
     ]
    }
   ],
   "source": [
    "hola()"
   ]
  },
  {
   "cell_type": "code",
   "execution_count": 47,
   "metadata": {},
   "outputs": [
    {
     "output_type": "stream",
     "name": "stdout",
     "text": [
      "\t*Se está apunto de ejecutar la función:  adios\nAdios!\n\t*Se ha finaliazado la ejecucion de la funcion:  adios\n"
     ]
    }
   ],
   "source": [
    "adios()"
   ]
  },
  {
   "cell_type": "code",
   "execution_count": 48,
   "metadata": {},
   "outputs": [
    {
     "output_type": "stream",
     "name": "stdout",
     "text": [
      "\t*Se está apunto de ejecutar la función:  saludar\nBuenos dias!\n\t*Se ha finaliazado la ejecucion de la funcion:  saludar\n"
     ]
    }
   ],
   "source": [
    "@monitorizar\n",
    "def saludar():\n",
    "    print(\"Buenos dias!\")\n",
    "saludar()"
   ]
  },
  {
   "cell_type": "code",
   "execution_count": 49,
   "metadata": {},
   "outputs": [
    {
     "output_type": "error",
     "ename": "TypeError",
     "evalue": "decorar() takes 0 positional arguments but 1 was given",
     "traceback": [
      "\u001b[1;31m---------------------------------------------------------------------------\u001b[0m",
      "\u001b[1;31mTypeError\u001b[0m                                 Traceback (most recent call last)",
      "\u001b[1;32m<ipython-input-49-802e3c01acce>\u001b[0m in \u001b[0;36m<module>\u001b[1;34m\u001b[0m\n\u001b[0;32m      2\u001b[0m \u001b[1;32mdef\u001b[0m \u001b[0msaludar\u001b[0m\u001b[1;33m(\u001b[0m\u001b[0mtexto\u001b[0m\u001b[1;33m)\u001b[0m\u001b[1;33m:\u001b[0m\u001b[1;33m\u001b[0m\u001b[1;33m\u001b[0m\u001b[0m\n\u001b[0;32m      3\u001b[0m     \u001b[0mprint\u001b[0m\u001b[1;33m(\u001b[0m\u001b[1;34m\"Buenos dias!\"\u001b[0m\u001b[1;33m)\u001b[0m\u001b[1;33m\u001b[0m\u001b[1;33m\u001b[0m\u001b[0m\n\u001b[1;32m----> 4\u001b[1;33m \u001b[0msaludar\u001b[0m\u001b[1;33m(\u001b[0m\u001b[1;34m\"Hola!!\"\u001b[0m\u001b[1;33m)\u001b[0m\u001b[1;33m\u001b[0m\u001b[1;33m\u001b[0m\u001b[0m\n\u001b[0m",
      "\u001b[1;31mTypeError\u001b[0m: decorar() takes 0 positional arguments but 1 was given"
     ]
    }
   ],
   "source": [
    "@monitorizar\n",
    "def saludar(texto):\n",
    "    print(\"Buenos dias!\")\n",
    "saludar(\"Hola!!\")"
   ]
  },
  {
   "cell_type": "code",
   "execution_count": 3,
   "metadata": {},
   "outputs": [],
   "source": [
    "def monitorizar_args(funcion):\n",
    "\n",
    "    def decorar(*args, **kwargs):\n",
    "        print(\"\\t*Se está apunto de ejecutar la función: \", funcion.__name__)\n",
    "\n",
    "        funcion(*args, **kwargs)\n",
    "\n",
    "        print(\"\\t*Se ha finaliazado la ejecucion de la funcion: \", funcion.__name__)\n",
    "\n",
    "    return decorar"
   ]
  },
  {
   "cell_type": "code",
   "execution_count": 6,
   "metadata": {},
   "outputs": [],
   "source": [
    "@monitorizar_args\n",
    "def hola(nombre):\n",
    "    print(\"Hola! {}\".format(nombre))\n",
    "\n",
    "@monitorizar_args\n",
    "def adios(nombre):\n",
    "    print(\"Adios! {}\".format(nombre))"
   ]
  },
  {
   "cell_type": "code",
   "execution_count": 8,
   "metadata": {},
   "outputs": [
    {
     "output_type": "stream",
     "name": "stdout",
     "text": [
      "\t*Se está apunto de ejecutar la función:  hola\nHola! Gustav\n\t*Se ha finaliazado la ejecucion de la funcion:  hola\n"
     ]
    }
   ],
   "source": [
    "hola(\"Gustav\")"
   ]
  },
  {
   "cell_type": "code",
   "execution_count": 9,
   "metadata": {},
   "outputs": [
    {
     "output_type": "stream",
     "name": "stdout",
     "text": [
      "\t*Se está apunto de ejecutar la función:  adios\nAdios! Gustav\n\t*Se ha finaliazado la ejecucion de la funcion:  adios\n"
     ]
    }
   ],
   "source": [
    "adios(\"Gustav\")"
   ]
  },
  {
   "cell_type": "code",
   "execution_count": 10,
   "metadata": {},
   "outputs": [
    {
     "output_type": "stream",
     "name": "stdout",
     "text": [
      "\t*Se está apunto de ejecutar la función:  saludar\nBuenos dias!\n\t*Se ha finaliazado la ejecucion de la funcion:  saludar\n"
     ]
    }
   ],
   "source": [
    "@monitorizar_args\n",
    "def saludar(texto):\n",
    "    print(\"Buenos dias!\")\n",
    "saludar(\"Hola!!\")"
   ]
  }
 ],
 "metadata": {
  "anaconda-cloud": {},
  "kernelspec": {
   "display_name": "Python 3",
   "language": "python",
   "name": "python3"
  },
  "language_info": {
   "codemirror_mode": {
    "name": "ipython",
    "version": 3
   },
   "file_extension": ".py",
   "mimetype": "text/x-python",
   "name": "python",
   "nbconvert_exporter": "python",
   "pygments_lexer": "ipython3",
   "version": "3.9.0-final"
  }
 },
 "nbformat": 4,
 "nbformat_minor": 0
}