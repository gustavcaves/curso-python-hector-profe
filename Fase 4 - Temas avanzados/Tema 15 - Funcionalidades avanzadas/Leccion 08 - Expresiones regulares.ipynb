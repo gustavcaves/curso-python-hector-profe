{
 "cells": [
  {
   "cell_type": "markdown",
   "metadata": {},
   "source": [
    "# Expresiones regulares"
   ]
  },
  {
   "cell_type": "code",
   "execution_count": 9,
   "metadata": {
    "collapsed": true
   },
   "outputs": [
    {
     "output_type": "execute_result",
     "data": {
      "text/plain": [
       "<re.Match object; span=(40, 46), match='mágica'>"
      ]
     },
     "metadata": {},
     "execution_count": 9
    }
   ],
   "source": [
    "import re\n",
    "\n",
    "texto = \"En esta cadena se encuentra una palabra mágica\"\n",
    "\n",
    "re.search('mágica', texto)"
   ]
  },
  {
   "cell_type": "code",
   "execution_count": 2,
   "metadata": {},
   "outputs": [],
   "source": [
    "re.search('hola', texto)"
   ]
  },
  {
   "cell_type": "code",
   "execution_count": 8,
   "metadata": {},
   "outputs": [],
   "source": [
    "palabra = \"mágica\"\n",
    "\n",
    "encontrado = re.search(palabra, texto)"
   ]
  },
  {
   "cell_type": "code",
   "execution_count": 6,
   "metadata": {},
   "outputs": [
    {
     "output_type": "stream",
     "name": "stdout",
     "text": [
      "No se ha encontrado la palabra\n"
     ]
    }
   ],
   "source": [
    "if encontrado is not None:\n",
    "    print(\"Se ha encontrado la palabra\")\n",
    "else: \n",
    "    print(\"No se ha encontrado la palabra\")"
   ]
  },
  {
   "cell_type": "code",
   "execution_count": 10,
   "metadata": {},
   "outputs": [
    {
     "output_type": "execute_result",
     "data": {
      "text/plain": [
       "40"
      ]
     },
     "metadata": {},
     "execution_count": 10
    }
   ],
   "source": [
    "encontrado.start()"
   ]
  },
  {
   "cell_type": "code",
   "execution_count": 11,
   "metadata": {},
   "outputs": [
    {
     "output_type": "execute_result",
     "data": {
      "text/plain": [
       "46"
      ]
     },
     "metadata": {},
     "execution_count": 11
    }
   ],
   "source": [
    "encontrado.end()"
   ]
  },
  {
   "cell_type": "code",
   "execution_count": 12,
   "metadata": {},
   "outputs": [
    {
     "output_type": "execute_result",
     "data": {
      "text/plain": [
       "(40, 46)"
      ]
     },
     "metadata": {},
     "execution_count": 12
    }
   ],
   "source": [
    "encontrado.span()"
   ]
  },
  {
   "cell_type": "code",
   "execution_count": 14,
   "metadata": {},
   "outputs": [
    {
     "output_type": "execute_result",
     "data": {
      "text/plain": [
       "'En esta cadena se encuentra una palabra mágica'"
      ]
     },
     "metadata": {},
     "execution_count": 14
    }
   ],
   "source": [
    "encontrado.string"
   ]
  },
  {
   "cell_type": "code",
   "execution_count": 15,
   "metadata": {},
   "outputs": [
    {
     "output_type": "execute_result",
     "data": {
      "text/plain": [
       "<re.Match object; span=(0, 4), match='Hola'>"
      ]
     },
     "metadata": {},
     "execution_count": 15
    }
   ],
   "source": [
    "texto = \"Hola Mundo\"\n",
    "re.match(\"Hola\", texto)"
   ]
  },
  {
   "cell_type": "code",
   "execution_count": 16,
   "metadata": {},
   "outputs": [],
   "source": [
    "re.match(\"Mola\", texto)"
   ]
  },
  {
   "cell_type": "code",
   "execution_count": 17,
   "metadata": {},
   "outputs": [
    {
     "output_type": "execute_result",
     "data": {
      "text/plain": [
       "['Vamos', 'a', 'dividir', 'esta', 'cadena']"
      ]
     },
     "metadata": {},
     "execution_count": 17
    }
   ],
   "source": [
    "texto = \"Vamos a dividir esta cadena\"\n",
    "re.split(' ', texto)"
   ]
  },
  {
   "cell_type": "code",
   "execution_count": 18,
   "metadata": {},
   "outputs": [
    {
     "output_type": "execute_result",
     "data": {
      "text/plain": [
       "'Hola amiga'"
      ]
     },
     "metadata": {},
     "execution_count": 18
    }
   ],
   "source": [
    "texto = \"Hola amigo\"\n",
    "re.sub(\"amigo\", \"amiga\", texto)"
   ]
  },
  {
   "cell_type": "code",
   "execution_count": 20,
   "metadata": {},
   "outputs": [
    {
     "output_type": "execute_result",
     "data": {
      "text/plain": [
       "['hola', 'hola', 'hola']"
      ]
     },
     "metadata": {},
     "execution_count": 20
    }
   ],
   "source": [
    "texto = \"hola adios hola hola\"\n",
    "re.findall(\"hola\", texto)"
   ]
  },
  {
   "cell_type": "code",
   "execution_count": 23,
   "metadata": {},
   "outputs": [
    {
     "output_type": "execute_result",
     "data": {
      "text/plain": [
       "3"
      ]
     },
     "metadata": {},
     "execution_count": 23
    }
   ],
   "source": [
    "len(re.findall(\"hola\", texto))"
   ]
  },
  {
   "cell_type": "code",
   "execution_count": 25,
   "metadata": {},
   "outputs": [
    {
     "output_type": "execute_result",
     "data": {
      "text/plain": [
       "4"
      ]
     },
     "metadata": {},
     "execution_count": 25
    }
   ],
   "source": [
    "len(re.findall(\"a\", texto))\n"
   ]
  },
  {
   "cell_type": "code",
   "execution_count": 27,
   "metadata": {},
   "outputs": [
    {
     "output_type": "execute_result",
     "data": {
      "text/plain": [
       "['hola', 'hello', 'hola']"
      ]
     },
     "metadata": {},
     "execution_count": 27
    }
   ],
   "source": [
    "texto = \"hola adios hello hola bye\"\n",
    "re.findall(\"(hola|hello)\",texto)"
   ]
  },
  {
   "cell_type": "code",
   "execution_count": 28,
   "metadata": {},
   "outputs": [
    {
     "output_type": "execute_result",
     "data": {
      "text/plain": [
       "['hla']"
      ]
     },
     "metadata": {},
     "execution_count": 28
    }
   ],
   "source": [
    "texto = \"hla hola hoola hooola hoooooola\"\n",
    "\n",
    "re.findall('hla',texto)"
   ]
  },
  {
   "cell_type": "code",
   "execution_count": 29,
   "metadata": {},
   "outputs": [
    {
     "output_type": "execute_result",
     "data": {
      "text/plain": [
       "['hola']"
      ]
     },
     "metadata": {},
     "execution_count": 29
    }
   ],
   "source": [
    "re.findall('hola',texto)"
   ]
  },
  {
   "cell_type": "code",
   "execution_count": 30,
   "metadata": {},
   "outputs": [
    {
     "output_type": "stream",
     "name": "stdout",
     "text": [
      "['hla']\n['hola']\n['hoola']\n"
     ]
    }
   ],
   "source": [
    "def buscar(patrones, texto):\n",
    "    for patron in patrones:\n",
    "        print(re.findall(patron, texto))\n",
    "\n",
    "patrones = ['hla', 'hola', 'hoola']\n",
    "buscar(patrones, texto)"
   ]
  },
  {
   "cell_type": "code",
   "execution_count": 36,
   "metadata": {},
   "outputs": [
    {
     "output_type": "stream",
     "name": "stdout",
     "text": [
      "['ho', 'ho', 'ho', 'ho']\n['h', 'ho', 'hoo', 'hooo', 'hoooooo']\n['hla', 'hola', 'hoola', 'hooola', 'hoooooola']\n['hla']\n"
     ]
    }
   ],
   "source": [
    "texto = \"hla hola hoola hooola hoooooola\"\n",
    "\n",
    "patrones = ['ho', 'ho*', 'ho*la', 'hu*la']\n",
    "\n",
    "buscar(patrones, texto)"
   ]
  },
  {
   "cell_type": "code",
   "execution_count": 39,
   "metadata": {},
   "outputs": [
    {
     "output_type": "stream",
     "name": "stdout",
     "text": [
      "['h', 'ho', 'hoo', 'hooo', 'hoooooo']\n['ho', 'hoo', 'hooo', 'hoooooo']\n['h', 'ho', 'ho', 'ho', 'ho']\n['hla', 'hola']\n"
     ]
    }
   ],
   "source": [
    "texto = \"hla hola hoola hooola hoooooola\"\n",
    "\n",
    "patrones = ['ho*', 'ho+', 'ho?', 'ho?la']\n",
    "\n",
    "buscar(patrones, texto)"
   ]
  },
  {
   "cell_type": "code",
   "execution_count": 43,
   "metadata": {},
   "outputs": [
    {
     "output_type": "stream",
     "name": "stdout",
     "text": [
      "['hla']\n['hola']\n['hooola']\n"
     ]
    }
   ],
   "source": [
    "texto = \"hla hola hoola hooola hoooooola\"\n",
    "\n",
    "patrones = ['ho{0}la', 'ho{1}la', 'ho{3}la']\n",
    "\n",
    "buscar(patrones, texto)"
   ]
  },
  {
   "cell_type": "code",
   "execution_count": 47,
   "metadata": {},
   "outputs": [
    {
     "output_type": "stream",
     "name": "stdout",
     "text": [
      "['hla', 'hola']\n['hola', 'hoola']\n['hoola', 'hooola', 'hoooooola']\n"
     ]
    }
   ],
   "source": [
    "texto = \"hla hola hoola hooola hoooooola\"\n",
    "\n",
    "patrones = ['ho{0,1}la', 'ho{1,2}la', 'ho{2,10}la']\n",
    "\n",
    "buscar(patrones, texto)"
   ]
  },
  {
   "cell_type": "code",
   "execution_count": 52,
   "metadata": {},
   "outputs": [
    {
     "output_type": "stream",
     "name": "stdout",
     "text": [
      "['hola', 'hula']\n['hala', 'hila', 'hola']\n['hala', 'hela', 'hila', 'hola', 'hula']\n"
     ]
    }
   ],
   "source": [
    "texto = \"hala hela hila hola hula\"\n",
    "\n",
    "patrones = ['h[ou]la', 'h[aio]la', 'h[aeiou]la']\n",
    "\n",
    "buscar(patrones, texto)"
   ]
  },
  {
   "cell_type": "code",
   "execution_count": 59,
   "metadata": {},
   "outputs": [
    {
     "output_type": "stream",
     "name": "stdout",
     "text": [
      "[]\n['haala', 'heeela']\n['hiiiila', 'hooooola']\n"
     ]
    }
   ],
   "source": [
    "texto = \"haala heeela hiiiila hooooola\"\n",
    "\n",
    "patrones = ['h[ae]la', 'h[ae]*la', 'h[io]{3,9}la']\n",
    "\n",
    "buscar(patrones, texto)"
   ]
  },
  {
   "cell_type": "code",
   "execution_count": 63,
   "metadata": {},
   "outputs": [
    {
     "output_type": "stream",
     "name": "stdout",
     "text": [
      "['hola']\n['hala', 'hela', 'hila', 'hula']\n"
     ]
    }
   ],
   "source": [
    "texto = \"hala hela hila hola hula\"\n",
    "\n",
    "patrones = ['h[o]la', 'h[^o]la']\n",
    "\n",
    "buscar(patrones, texto)"
   ]
  },
  {
   "cell_type": "code",
   "execution_count": 72,
   "metadata": {},
   "outputs": [
    {
     "output_type": "stream",
     "name": "stdout",
     "text": [
      "['hola']\n['h0la']\n['hola', 'Hola', 'Mola', 'sdjh', 'sdZd', 'Ysdj']\n['Hola', 'Mola', 'M0la', 'U377', 'Ysdj']\n"
     ]
    }
   ],
   "source": [
    "texto = \"hola h0la Hola Mola m0la M0la sdjh sdZd U377 Ysdj\"\n",
    "\n",
    "patrones = ['h[a-z]la', 'h[0-9]la', '[A-z]{4}', '[A-Z][A-z0-9]{3}']\n",
    "\n",
    "buscar(patrones, texto)"
   ]
  },
  {
   "cell_type": "code",
   "execution_count": 86,
   "metadata": {},
   "outputs": [
    {
     "output_type": "stream",
     "name": "stdout",
     "text": [
      "['3', '2', '0', '1', '6']\n['3', '2016']\n['E', 's', 't', 'e', ' ', 'c', 'u', 'r', 's', 'o', ' ', 'd', 'e', ' ', 'p', 'y', 't', 'h', 'o', 'n', ' ', ' ', 's', 'e', ' ', 'p', 'u', 'b', 'l', 'i', 'c', 'ó', ' ', 'e', 'n', ' ', 'e', 'l', ' ', 'a', 'ñ', 'o', ' ']\n['Este curso de python ', ' se publicó en el año ']\n[' ', ' ', ' ', ' ', ' ', ' ', ' ', ' ', ' ', ' ']\n['E', 's', 't', 'e', 'c', 'u', 'r', 's', 'o', 'd', 'e', 'p', 'y', 't', 'h', 'o', 'n', '3', 's', 'e', 'p', 'u', 'b', 'l', 'i', 'c', 'ó', 'e', 'n', 'e', 'l', 'a', 'ñ', 'o', '2', '0', '1', '6']\n['Este', 'curso', 'de', 'python', '3', 'se', 'publicó', 'en', 'el', 'año', '2016']\n['E', 's', 't', 'e', 'c', 'u', 'r', 's', 'o', 'd', 'e', 'p', 'y', 't', 'h', 'o', 'n', '3', 's', 'e', 'p', 'u', 'b', 'l', 'i', 'c', 'ó', 'e', 'n', 'e', 'l', 'a', 'ñ', 'o', '2', '0', '1', '6']\n['Este', 'curso', 'de', 'python', '3', 'se', 'publicó', 'en', 'el', 'año', '2016']\n[' ', ' ', ' ', ' ', ' ', ' ', ' ', ' ', ' ', ' ']\n[' ', ' ', ' ', ' ', ' ', ' ', ' ', ' ', ' ', ' ']\n"
     ]
    }
   ],
   "source": [
    "texto = \"Este curso de python 3 se     publicó en el año 2016\"\n",
    "\n",
    "patrones = [r'\\d', r'\\d+',r'\\D', r'\\D+', r'\\s', r'\\S', r'\\S+', r'\\w', r'\\w+', r'\\W', r'\\W+']\n",
    "\n",
    "buscar(patrones, texto)"
   ]
  }
 ],
 "metadata": {
  "anaconda-cloud": {},
  "kernelspec": {
   "display_name": "Python 3",
   "language": "python",
   "name": "python3"
  },
  "language_info": {
   "codemirror_mode": {
    "name": "ipython",
    "version": 3
   },
   "file_extension": ".py",
   "mimetype": "text/x-python",
   "name": "python",
   "nbconvert_exporter": "python",
   "pygments_lexer": "ipython3",
   "version": "3.9.0-final"
  }
 },
 "nbformat": 4,
 "nbformat_minor": 0
}