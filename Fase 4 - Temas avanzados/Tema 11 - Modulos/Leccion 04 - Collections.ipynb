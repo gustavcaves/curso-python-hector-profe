{
 "cells": [
  {
   "cell_type": "markdown",
   "metadata": {},
   "source": [
    "# Contadores "
   ]
  },
  {
   "cell_type": "code",
   "execution_count": 2,
   "metadata": {},
   "outputs": [
    {
     "data": {
      "text/plain": [
       "Counter({1: 4, 2: 3, 3: 2, 4: 1})"
      ]
     },
     "execution_count": 2,
     "metadata": {},
     "output_type": "execute_result"
    }
   ],
   "source": [
    "from collections import Counter\n",
    "\n",
    "l = [1,2,3,4,1,2,3,1,2,1]\n",
    "Counter(l)"
   ]
  },
  {
   "cell_type": "code",
   "execution_count": 3,
   "metadata": {},
   "outputs": [
    {
     "data": {
      "text/plain": [
       "Counter({'p': 1, 'a': 3, 'l': 1, 'b': 1, 'r': 1})"
      ]
     },
     "execution_count": 3,
     "metadata": {},
     "output_type": "execute_result"
    }
   ],
   "source": [
    "Counter(\"palabra\")"
   ]
  },
  {
   "cell_type": "code",
   "execution_count": 4,
   "metadata": {},
   "outputs": [
    {
     "name": "stdout",
     "output_type": "stream",
     "text": [
      "Counter({'perro': 3, 'canario': 2, 'gato': 1})\n"
     ]
    }
   ],
   "source": [
    "animales = \"gato perro canario perro canario perro\"\n",
    "c = Counter(animales.split())\n",
    "print(c)"
   ]
  },
  {
   "cell_type": "code",
   "execution_count": 5,
   "metadata": {},
   "outputs": [
    {
     "name": "stdout",
     "output_type": "stream",
     "text": [
      "[('perro', 3)]\n",
      "[('perro', 3), ('canario', 2)]\n",
      "[('perro', 3), ('canario', 2), ('gato', 1)]\n"
     ]
    }
   ],
   "source": [
    "animales = \"gato perro canario perro canario perro\"\n",
    "c = Counter(animales.split())\n",
    "\n",
    "print(c.most_common(1)) # Primeros elementos mas repetidos\n",
    "print(c.most_common(2)) # Primeros dos elementos mas repetidos\n",
    "print(c.most_common())  # Elementos ordenados por repeticiones"
   ]
  },
  {
   "cell_type": "code",
   "execution_count": 11,
   "metadata": {},
   "outputs": [
    {
     "name": "stdout",
     "output_type": "stream",
     "text": [
      "dict_items([(10, 4), (20, 3), (30, 2), (40, 1)])\n",
      "dict_keys([10, 20, 30, 40])\n",
      "dict_values([4, 3, 2, 1])\n",
      "10\n",
      "[10, 20, 30, 40]\n",
      "{10: 4, 20: 3, 30: 2, 40: 1}\n",
      "{40, 10, 20, 30}\n"
     ]
    }
   ],
   "source": [
    "l = [10,20,30,40,10,20,30,10,20,10]\n",
    "c = Counter(l)\n",
    "\n",
    "print(c.items()) # Registros del contador por clave-valor\n",
    "print(c.keys()) # Registros del contador por clave\n",
    "print(c.values()) # Registros del contador por valor\n",
    "\n",
    "print(sum(c.values())) # Suma total de elementos del contador\n",
    "\n",
    "print(list(c)) # Conversión a lista\n",
    "print(dict(c)) # Conversión a diccionario\n",
    "print(set(c)) # Conversión a conjunto"
   ]
  },
  {
   "cell_type": "markdown",
   "metadata": {},
   "source": [
    "# Diccionarios por defecto"
   ]
  },
  {
   "cell_type": "code",
   "execution_count": 17,
   "metadata": {},
   "outputs": [
    {
     "name": "stdout",
     "output_type": "stream",
     "text": [
      "0.0\n",
      "defaultdict(<class 'float'>, {'algo': 0.0})\n"
     ]
    }
   ],
   "source": [
    "from collections import defaultdict\n",
    "\n",
    "d = defaultdict(float) # Tipo flotante por defecto\n",
    "print(d['algo'])\n",
    "print(d)"
   ]
  },
  {
   "cell_type": "code",
   "execution_count": 18,
   "metadata": {},
   "outputs": [
    {
     "name": "stdout",
     "output_type": "stream",
     "text": [
      "\n",
      "defaultdict(<class 'str'>, {'algo': ''})\n"
     ]
    }
   ],
   "source": [
    "d = defaultdict(str) # Tipo cadena por defecto\n",
    "print(d['algo'])\n",
    "print(d)"
   ]
  },
  {
   "cell_type": "code",
   "execution_count": 19,
   "metadata": {},
   "outputs": [
    {
     "name": "stdout",
     "output_type": "stream",
     "text": [
      "<object object at 0x0000029CB15826C0>\n",
      "defaultdict(<class 'object'>, {'algo': <object object at 0x0000029CB15826C0>})\n"
     ]
    }
   ],
   "source": [
    "d = defaultdict(object) # Tipo objeto por defecto\n",
    "print(d['algo'])\n",
    "print(d)"
   ]
  },
  {
   "cell_type": "markdown",
   "metadata": {},
   "source": [
    "# Diccionarios ordenados"
   ]
  },
  {
   "cell_type": "code",
   "execution_count": 24,
   "metadata": {},
   "outputs": [
    {
     "name": "stdout",
     "output_type": "stream",
     "text": [
      "OrderedDict([('uno', 'one'), ('dos', 'two'), ('tres', 'three')])\n"
     ]
    }
   ],
   "source": [
    "from collections import OrderedDict\n",
    "\n",
    "n = OrderedDict()\n",
    "n['uno'] = 'one'\n",
    "n['dos'] = 'two'\n",
    "n['tres'] = 'three'\n",
    "\n",
    "print(n)"
   ]
  },
  {
   "cell_type": "code",
   "execution_count": 28,
   "metadata": {},
   "outputs": [
    {
     "name": "stdout",
     "output_type": "stream",
     "text": [
      "{'uno': 'one', 'dos': 'two'}\n",
      "{'dos': 'two', 'uno': 'one'}\n",
      "True\n"
     ]
    }
   ],
   "source": [
    "n1 = {}\n",
    "n1['uno'] = 'one'\n",
    "n1['dos'] = 'two'\n",
    "\n",
    "print(n1)\n",
    "\n",
    "n2 = {}\n",
    "n2['dos'] = 'two'\n",
    "n2['uno'] ='one'\n",
    "\n",
    "print(n2)\n",
    "\n",
    "# Tienen los mismos elementos y el mismo orden?\n",
    "print(n1 == n2)"
   ]
  },
  {
   "cell_type": "code",
   "execution_count": 30,
   "metadata": {},
   "outputs": [
    {
     "name": "stdout",
     "output_type": "stream",
     "text": [
      "OrderedDict([('uno', 'one'), ('dos', 'two')])\n",
      "OrderedDict([('dos', 'two'), ('uno', 'one')])\n",
      "False\n"
     ]
    }
   ],
   "source": [
    "n1 = OrderedDict()\n",
    "n1['uno'] = 'one'\n",
    "n1['dos'] = 'two'\n",
    "\n",
    "print(n1)\n",
    "\n",
    "n2 = OrderedDict()\n",
    "n2['dos'] = 'two'\n",
    "n2['uno'] = 'one'\n",
    "\n",
    "print(n2)\n",
    "\n",
    "# Tienen los mismos elementos y el mismo orden?\n",
    "print(n1 == n2)"
   ]
  },
  {
   "cell_type": "markdown",
   "metadata": {},
   "source": [
    "# Tuplas con nombre"
   ]
  },
  {
   "cell_type": "code",
   "execution_count": 37,
   "metadata": {},
   "outputs": [
    {
     "name": "stdout",
     "output_type": "stream",
     "text": [
      "Persona(nombre='Hector', apellido='Costa', edad=27, pichi='pichi')\n",
      "Hector\n",
      "27\n",
      "Hector\n",
      "pichi\n"
     ]
    }
   ],
   "source": [
    "from collections import namedtuple\n",
    "\n",
    "Persona = namedtuple('Persona','nombre apellido edad pichi')\n",
    "p = Persona(nombre=\"Hector\",apellido=\"Costa\",edad=27,pichi=\"pichi\")\n",
    "\n",
    "print(p)\n",
    "\n",
    "# Podemos acceder a los elementos como si fueran atributos de un objeto\n",
    "print(p.nombre)\n",
    "print(p.edad)\n",
    "\n",
    "# O utilizando índices como con las tuplas clásicas\n",
    "print(p[0])\n",
    "print(p[-1])"
   ]
  }
 ],
 "metadata": {
  "kernelspec": {
   "display_name": "Python 3",
   "language": "python",
   "name": "python3"
  },
  "language_info": {
   "codemirror_mode": {
    "name": "ipython",
    "version": 3
   },
   "file_extension": ".py",
   "mimetype": "text/x-python",
   "name": "python",
   "nbconvert_exporter": "python",
   "pygments_lexer": "ipython3",
   "version": "3.8.3"
  }
 },
 "nbformat": 4,
 "nbformat_minor": 1
}
